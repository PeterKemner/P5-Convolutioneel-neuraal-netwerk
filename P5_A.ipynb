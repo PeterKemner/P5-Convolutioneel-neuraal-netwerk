{
 "cells": [
  {
   "cell_type": "markdown",
   "metadata": {},
   "source": [
    "# "
   ]
  },
  {
   "cell_type": "markdown",
   "metadata": {},
   "source": [
    "# P5 - Convolutioneel neuraal netwerk"
   ]
  },
  {
   "cell_type": "markdown",
   "metadata": {},
   "source": [
    "###### Door Peter Kemner, 1806201."
   ]
  },
  {
   "cell_type": "markdown",
   "metadata": {},
   "source": [
    "In dit notebook ga ik een convoltioneel neuraal netwerk maken om kleuren plaatjes te classificeren van de CIFAR-10 dataset. Deze notebook is het eerste deel van de opdracht waarbij het netwerk is gemaakt zonder aanvullende technieken."
   ]
  },
  {
   "cell_type": "markdown",
   "metadata": {},
   "source": [
    "# Opzet notebook"
   ]
  },
  {
   "cell_type": "markdown",
   "metadata": {},
   "source": [
    "Het notebook heeft de volgende opzet:\n",
    "- Data formatting,\n",
    "- Modelling,\n",
    "- Overplotting,\n",
    "- Training en resultaten,\n",
    "- Conclusie."
   ]
  },
  {
   "cell_type": "markdown",
   "metadata": {},
   "source": [
    "# Data formatting"
   ]
  },
  {
   "cell_type": "markdown",
   "metadata": {},
   "source": [
    "Ik begin met de data voorbereiden voor het model, dit houdt in:\n",
    "- data inladen,\n",
    "- data splitsen,\n",
    "- data vervormen,\n",
    "- data veranderen."
   ]
  },
  {
   "cell_type": "code",
   "execution_count": 24,
   "metadata": {},
   "outputs": [],
   "source": [
    "import matplotlib.pyplot as plt\n",
    "\n",
    "import tensorflow as tf\n",
    "from tensorflow.keras.datasets import cifar10\n",
    "from tensorflow.keras.models import Sequential\n",
    "from tensorflow.keras.layers import Conv2D, MaxPooling2D, ZeroPadding2D, Flatten, Activation, Dense\n",
    "from tensorflow.keras.optimizers import SGD, Adam, schedules\n",
    "from tensorflow.keras import utils\n",
    "from tensorflow.keras.preprocessing.image import ImageDataGenerator"
   ]
  },
  {
   "cell_type": "markdown",
   "metadata": {},
   "source": [
    "### Data inladen/splitsen"
   ]
  },
  {
   "cell_type": "markdown",
   "metadata": {},
   "source": [
    "Hier wordt de data ingeladen, de data wordt ook gelijk gesplits in 2 sets. De eerste gaat gebruikt worden om het model op te trainen en laatste is om het model te testen. De shape van de data wordt ook geprint, hieraan kan je zien wat de dementies zijn voor de input van het model en dat de y_train/test nog moet worden aangepast want dat moeten 10 categorieën worden."
   ]
  },
  {
   "cell_type": "code",
   "execution_count": 4,
   "metadata": {},
   "outputs": [
    {
     "name": "stdout",
     "output_type": "stream",
     "text": [
      "x_train shape (50000, 32, 32, 3)\n",
      "y_train shape (50000, 1)\n",
      "x_test shape (10000, 32, 32, 3)\n",
      "y_test shape (10000, 1)\n"
     ]
    }
   ],
   "source": [
    "(x_train, y_train), (x_test, y_test) = cifar10.load_data()\n",
    "\n",
    "print(\"x_train shape\", x_train.shape)\n",
    "print(\"y_train shape\", y_train.shape)\n",
    "print(\"x_test shape\", x_test.shape)\n",
    "print(\"y_test shape\", y_test.shape)"
   ]
  },
  {
   "cell_type": "markdown",
   "metadata": {},
   "source": [
    "### Data vervormen"
   ]
  },
  {
   "cell_type": "code",
   "execution_count": 23,
   "metadata": {},
   "outputs": [],
   "source": [
    "X_train = x_train.astype('float32')         \n",
    "X_test = x_test.astype('float32')\n",
    "\n",
    "X_train /= 255                              \n",
    "X_test /= 255"
   ]
  },
  {
   "cell_type": "markdown",
   "metadata": {},
   "source": [
    "Hier worden de correcte antwoorden van de train en test set naar 10 veranderd want dat zijn alle mogelijk mogelijkheden. Het maakt de resultaten een array met de lengte 10 en dat is veel handiger om de resultaten van het netwerk te vergelijken."
   ]
  },
  {
   "cell_type": "code",
   "execution_count": 18,
   "metadata": {},
   "outputs": [
    {
     "name": "stdout",
     "output_type": "stream",
     "text": [
      "Y_train: (50000, 10), Y_test: (10000, 10)\n"
     ]
    }
   ],
   "source": [
    "nb_classes = 10\n",
    "\n",
    "Y_train = utils.to_categorical(y_train, nb_classes)\n",
    "Y_test = utils.to_categorical(y_test, nb_classes)\n",
    "\n",
    "print(f\"Y_train: {Y_train.shape}, Y_test: {Y_test.shape}\")"
   ]
  },
  {
   "cell_type": "markdown",
   "metadata": {},
   "source": [
    "### Data veranderen"
   ]
  },
  {
   "cell_type": "markdown",
   "metadata": {},
   "source": [
    "Hier heb ik een deel van de test set gepakt en een beetje gedraait/verplaatst. Dit ga ik gebruiken om te testen of het netwerk de globale patronen heeft geleert en niet alleen van de plaatjes.\n",
    "bron: https://keras.io/api/preprocessing/image/ en Les_10_Convolutionele_neurale_netwerken_MNIST.ipynb"
   ]
  },
  {
   "cell_type": "code",
   "execution_count": 21,
   "metadata": {},
   "outputs": [],
   "source": [
    "new_data = ImageDataGenerator(rotation_range=40, shear_range=20)\n",
    "new_data.fit(X_test)\n",
    "\n",
    "X_test_augmented, Y_test_augmented = next(new_data.flow(X_test, Y_test, batch_size=X_test.shape[0], shuffle=False))"
   ]
  },
  {
   "cell_type": "markdown",
   "metadata": {},
   "source": [
    "# Modeling"
   ]
  },
  {
   "cell_type": "markdown",
   "metadata": {},
   "source": [
    "### De architectuur\n",
    "**1. Conv layer.**\n",
    "\n",
    "De eerste laag heeft 3 32x32 fotos waar elk van de foto hoort bij de een van de rgb kleuren. Er gaan over de alle fotos in de laag 32 3x3 filters met de relu functie.\n",
    "\n",
    "**2. Conv layer.**\n",
    "\n",
    "De tweede laag krijgt de 32 activatie maps van de vorige laag en gaat daar weer met 32 3x3 filters overheen met de relu functie.\n",
    "\n",
    "**3. Conv layer.**\n",
    "\n",
    "De derde laag krijgt de 32 activatie maps van de vorige laag en gaat daar weer met 32 3x3 filters overheen met de relu functie.\n",
    "\n",
    "**4. Max pooling.**\n",
    "\n",
    "De vierde laag is een pooling layer van 2x2, dit wordt gebruikt om de data te verkleinen en op de belangerijk waardes te focusen.\n",
    "\n",
    "**5. Conv layer.**\n",
    "\n",
    "De derde laag krijgt de verkleinde data van de pooling laag en gaat daar met 64 3x3 filters overheen met de relu functie.\n",
    "\n",
    "**6. Conv layer.**\n",
    "\n",
    "De zesde laag krijgt de 64 activatie maps van de vorige laag en gaat daar weer met 64 3x3 filters overheen met de relu functie.\n",
    "\n",
    "**7. Max pooling.**\n",
    "\n",
    "De zevende laag is een pooling layer van 2x2, deze verkleint de data weer.\n",
    "\n",
    "**8. Conv layer.**\n",
    "\n",
    "De derde laag krijgt de verkleinde data van de pooling laag en gaat daar met 128 3x3 filters overheen met de relu functie.\n",
    "\n",
    "**9. Flatten.**\n"
   ]
  },
  {
   "cell_type": "code",
   "execution_count": 11,
   "metadata": {},
   "outputs": [
    {
     "name": "stdout",
     "output_type": "stream",
     "text": [
      "WARNING:tensorflow:From c:\\Users\\peter\\anaconda3\\envs\\machlearn\\lib\\site-packages\\keras\\src\\backend.py:873: The name tf.get_default_graph is deprecated. Please use tf.compat.v1.get_default_graph instead.\n",
      "\n",
      "WARNING:tensorflow:From c:\\Users\\peter\\anaconda3\\envs\\machlearn\\lib\\site-packages\\keras\\src\\layers\\pooling\\max_pooling2d.py:161: The name tf.nn.max_pool is deprecated. Please use tf.nn.max_pool2d instead.\n",
      "\n",
      "WARNING:tensorflow:From c:\\Users\\peter\\anaconda3\\envs\\machlearn\\lib\\site-packages\\keras\\src\\optimizers\\__init__.py:309: The name tf.train.Optimizer is deprecated. Please use tf.compat.v1.train.Optimizer instead.\n",
      "\n"
     ]
    }
   ],
   "source": [
    "model = Sequential()\n",
    "\n",
    "model.add(Conv2D(filters=32, kernel_size=(3, 3), input_shape=(32, 32, 3)))\n",
    "model.add(Activation('relu') )\n",
    "\n",
    "model.add(Conv2D(filters=32, kernel_size=(3, 3)))\n",
    "model.add(Activation('relu') )\n",
    "\n",
    "model.add(Conv2D(filters=32, kernel_size=(3, 3)))\n",
    "model.add(Activation('relu'))\n",
    "\n",
    "model.add(MaxPooling2D(pool_size=(2, 2)))\n",
    "\n",
    "model.add(Conv2D(filters=64, kernel_size=(3, 3)))\n",
    "model.add(Activation('relu'))\n",
    "\n",
    "model.add(Conv2D(filters=64, kernel_size=(3, 3)))\n",
    "model.add(Activation('relu'))\n",
    "\n",
    "model.add(MaxPooling2D(pool_size=(2, 2)))\n",
    "\n",
    "model.add(Conv2D(filters=128, kernel_size=(3, 3)))\n",
    "model.add(Activation('relu'))\n",
    "\n",
    "model.add(Flatten())\n",
    "\n",
    "model.add(Dense(500))\n",
    "model.add(Activation('relu'))\n",
    "\n",
    "model.add(Dense(300))\n",
    "model.add(Activation('relu'))\n",
    "\n",
    "model.add(Dense(10))\n",
    "model.add(Activation('softmax'))\n",
    "\n",
    "model.compile(loss='categorical_crossentropy', optimizer='adam', metrics=['accuracy'])"
   ]
  },
  {
   "cell_type": "code",
   "execution_count": 12,
   "metadata": {},
   "outputs": [
    {
     "name": "stdout",
     "output_type": "stream",
     "text": [
      "Model: \"sequential\"\n",
      "_________________________________________________________________\n",
      " Layer (type)                Output Shape              Param #   \n",
      "=================================================================\n",
      " conv2d (Conv2D)             (None, 30, 30, 32)        896       \n",
      "                                                                 \n",
      " activation (Activation)     (None, 30, 30, 32)        0         \n",
      "                                                                 \n",
      " conv2d_1 (Conv2D)           (None, 28, 28, 32)        9248      \n",
      "                                                                 \n",
      " activation_1 (Activation)   (None, 28, 28, 32)        0         \n",
      "                                                                 \n",
      " conv2d_2 (Conv2D)           (None, 26, 26, 32)        9248      \n",
      "                                                                 \n",
      " activation_2 (Activation)   (None, 26, 26, 32)        0         \n",
      "                                                                 \n",
      " max_pooling2d (MaxPooling2  (None, 13, 13, 32)        0         \n",
      " D)                                                              \n",
      "                                                                 \n",
      " conv2d_3 (Conv2D)           (None, 11, 11, 64)        18496     \n",
      "                                                                 \n",
      " activation_3 (Activation)   (None, 11, 11, 64)        0         \n",
      "                                                                 \n",
      " conv2d_4 (Conv2D)           (None, 9, 9, 64)          36928     \n",
      "                                                                 \n",
      " activation_4 (Activation)   (None, 9, 9, 64)          0         \n",
      "                                                                 \n",
      " max_pooling2d_1 (MaxPoolin  (None, 4, 4, 64)          0         \n",
      " g2D)                                                            \n",
      "                                                                 \n",
      " conv2d_5 (Conv2D)           (None, 2, 2, 128)         73856     \n",
      "                                                                 \n",
      " activation_5 (Activation)   (None, 2, 2, 128)         0         \n",
      "                                                                 \n",
      " flatten (Flatten)           (None, 512)               0         \n",
      "                                                                 \n",
      " dense (Dense)               (None, 500)               256500    \n",
      "                                                                 \n",
      " activation_6 (Activation)   (None, 500)               0         \n",
      "                                                                 \n",
      " dense_1 (Dense)             (None, 300)               150300    \n",
      "                                                                 \n",
      " activation_7 (Activation)   (None, 300)               0         \n",
      "                                                                 \n",
      " dense_2 (Dense)             (None, 10)                3010      \n",
      "                                                                 \n",
      " activation_8 (Activation)   (None, 10)                0         \n",
      "                                                                 \n",
      "=================================================================\n",
      "Total params: 558482 (2.13 MB)\n",
      "Trainable params: 558482 (2.13 MB)\n",
      "Non-trainable params: 0 (0.00 Byte)\n",
      "_________________________________________________________________\n"
     ]
    }
   ],
   "source": [
    "model.summary()"
   ]
  },
  {
   "cell_type": "code",
   "execution_count": 13,
   "metadata": {},
   "outputs": [
    {
     "name": "stdout",
     "output_type": "stream",
     "text": [
      "WARNING:tensorflow:From c:\\Users\\peter\\anaconda3\\envs\\machlearn\\lib\\site-packages\\keras\\src\\utils\\tf_utils.py:492: The name tf.ragged.RaggedTensorValue is deprecated. Please use tf.compat.v1.ragged.RaggedTensorValue instead.\n",
      "\n",
      "WARNING:tensorflow:From c:\\Users\\peter\\anaconda3\\envs\\machlearn\\lib\\site-packages\\keras\\src\\engine\\base_layer_utils.py:384: The name tf.executing_eagerly_outside_functions is deprecated. Please use tf.compat.v1.executing_eagerly_outside_functions instead.\n",
      "\n",
      "WARNING:tensorflow:Your input ran out of data; interrupting training. Make sure that your dataset or generator can generate at least `steps_per_epoch * epochs` batches (in this case, 93 batches). You may need to use the repeat() function when building your dataset.\n",
      "WARNING:tensorflow:Your input ran out of data; interrupting training. Make sure that your dataset or generator can generate at least `steps_per_epoch * epochs` batches (in this case, 93 batches). You may need to use the repeat() function when building your dataset.\n"
     ]
    },
    {
     "data": {
      "image/png": "[encoded data removed]",
      "text/plain": [
       "<Figure size 640x480 with 1 Axes>"
      ]
     },
     "metadata": {},
     "output_type": "display_data"
    }
   ],
   "source": [
    "def plot_overfitting(max_epochs, model):\n",
    "    initial_weights = model.get_weights()\n",
    "    train_acc = []\n",
    "    test_acc = []\n",
    "    for epoch in range(1, max_epochs + 1):\n",
    "        model.fit(X_train, Y_train, batch_size = 128, epochs=epoch, verbose=0, validation_split = 0.2, validation_steps=12000//128)\n",
    "        _, accuracy1 = model.evaluate(X_train, Y_train, verbose=0)\n",
    "        _, accuracy2 = model.evaluate(X_test, Y_test, verbose=0)\n",
    "        train_acc.append(accuracy1)\n",
    "        test_acc.append(accuracy2)\n",
    "    # return [accuracy1, accuracy2]\n",
    "    \n",
    "    plt.plot(range(1, max_epochs + 1), train_acc, label='Training Accuracy')\n",
    "    plt.plot(range(1, max_epochs + 1), test_acc, label='Testing Accuracy')\n",
    "    plt.show()\n",
    "    model.set_weights(initial_weights)\n",
    "\n",
    "plot_overfitting(2, model)\n",
    "\n",
    "# train_acc = []\n",
    "# test_acc = []\n",
    "# max_epochs = 2\n",
    "\n",
    "# for x in range(1, max_epochs + 1):\n",
    "#     train_acc.append(plot_overfitting(x)[0])\n",
    "#     test_acc.append(plot_overfitting(x)[1])\n",
    "\n",
    "# plt.plot(range(1, max_epochs + 1), train_acc, label='Training Accuracy')\n",
    "# plt.plot(range(1, max_epochs + 1), test_acc, label='Testing Accuracy')\n",
    "# plt.show()"
   ]
  },
  {
   "attachments": {
    "image.png": {
     "image/png": "[encoded data removed]"
    }
   },
   "cell_type": "markdown",
   "metadata": {},
   "source": [
    "![image.png](attachment:image.png)"
   ]
  },
  {
   "cell_type": "code",
   "execution_count": 14,
   "metadata": {},
   "outputs": [
    {
     "name": "stdout",
     "output_type": "stream",
     "text": [
      "Epoch 1/4\n",
      "312/313 [============================>.] - ETA: 0s - loss: 2.0765 - accuracy: 0.2092WARNING:tensorflow:Your input ran out of data; interrupting training. Make sure that your dataset or generator can generate at least `steps_per_epoch * epochs` batches (in this case, 93 batches). You may need to use the repeat() function when building your dataset.\n",
      "313/313 [==============================] - 24s 77ms/step - loss: 2.0760 - accuracy: 0.2095 - val_loss: 1.7389 - val_accuracy: 0.3511\n",
      "Epoch 2/4\n",
      "313/313 [==============================] - 21s 67ms/step - loss: 1.6230 - accuracy: 0.3988\n",
      "Epoch 3/4\n",
      "313/313 [==============================] - 21s 66ms/step - loss: 1.4386 - accuracy: 0.4739\n",
      "Epoch 4/4\n",
      "313/313 [==============================] - 23s 72ms/step - loss: 1.2840 - accuracy: 0.5362\n"
     ]
    },
    {
     "data": {
      "text/plain": [
       "<keras.src.callbacks.History at 0x15d4a3cb640>"
      ]
     },
     "execution_count": 14,
     "metadata": {},
     "output_type": "execute_result"
    }
   ],
   "source": [
    "# model.fit(X_train, Y_train, batch_size = 128, epochs=4, verbose=1, validation_split = 0.2, validation_steps=12000//128)"
   ]
  },
  {
   "cell_type": "code",
   "execution_count": 15,
   "metadata": {},
   "outputs": [
    {
     "name": "stdout",
     "output_type": "stream",
     "text": [
      "313/313 [==============================] - 2s 8ms/step - loss: 1.2171 - accuracy: 0.5614\n",
      "Test loss: 1.2171\n",
      "Test accuracy: 0.5614\n"
     ]
    }
   ],
   "source": [
    "loss, accuracy = model.evaluate(X_test, Y_test)\n",
    "print(f\"Test loss: {loss:.4f}\")\n",
    "print(f\"Test accuracy: {accuracy:.4f}\")"
   ]
  },
  {
   "cell_type": "code",
   "execution_count": 16,
   "metadata": {},
   "outputs": [],
   "source": [
    "datagen.fit(X_test)\n",
    "X_test_augmented, Y_test_augmented = next(datagen.flow(X_test, Y_test, batch_size=10_000))"
   ]
  },
  {
   "cell_type": "code",
   "execution_count": 17,
   "metadata": {},
   "outputs": [
    {
     "name": "stdout",
     "output_type": "stream",
     "text": [
      "313/313 [==============================] - 3s 8ms/step - loss: 1.2816 - accuracy: 0.5310\n",
      "Test loss: 1.2816\n",
      "Test accuracy: 0.5310\n"
     ]
    }
   ],
   "source": [
    "loss, accuracy = model.evaluate(X_test_augmented, Y_test_augmented)\n",
    "print(f\"Test loss: {loss:.4f}\")\n",
    "print(f\"Test accuracy: {accuracy:.4f}\")"
   ]
  }
 ],
 "metadata": {
  "kernelspec": {
   "display_name": "MachineLearning_20240206",
   "language": "python",
   "name": "python3"
  },
  "language_info": {
   "codemirror_mode": {
    "name": "ipython",
    "version": 3
   },
   "file_extension": ".py",
   "mimetype": "text/x-python",
   "name": "python",
   "nbconvert_exporter": "python",
   "pygments_lexer": "ipython3",
   "version": "3.10.13"
  }
 },
 "nbformat": 4,
 "nbformat_minor": 2
}
