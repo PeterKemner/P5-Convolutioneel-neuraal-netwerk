{
 "cells": [
  {
   "cell_type": "markdown",
   "metadata": {},
   "source": [
    "# "
   ]
  },
  {
   "cell_type": "code",
   "execution_count": null,
   "metadata": {},
   "outputs": [],
   "source": [
    "import matplotlib.pyplot as plt\n",
    "\n",
    "import tensorflow as tf\n",
    "from tensorflow.keras.datasets import cifar10\n",
    "from tensorflow.keras.models import Sequential\n",
    "from tensorflow.keras.layers import Conv2D, MaxPooling2D, ZeroPadding2D, Flatten, Activation, Dense\n",
    "from tensorflow.keras.optimizers import SGD, Adam, schedules\n",
    "from tensorflow.keras import utils\n",
    "from tensorflow.keras.preprocessing.image import ImageDataGenerator"
   ]
  },
  {
   "cell_type": "code",
   "execution_count": null,
   "metadata": {},
   "outputs": [],
   "source": [
    "(x_train, y_train), (x_test, y_test) = cifar10.load_data()\n",
    "\n",
    "print(\"x_train shape\", x_train.shape)\n",
    "print(\"y_train shape\", y_train.shape)\n",
    "print(\"x_test shape\", x_test.shape)\n",
    "print(\"y_test shape\", y_test.shape)"
   ]
  },
  {
   "cell_type": "code",
   "execution_count": null,
   "metadata": {},
   "outputs": [],
   "source": [
    "X_train = x_train.reshape(50000, 32, 32, 3)\n",
    "X_test = x_test.reshape(10000, 32, 32, 3)\n",
    "\n",
    "X_train = X_train.astype('float32')         \n",
    "X_test = X_test.astype('float32')\n",
    "\n",
    "X_train /= 255                              \n",
    "X_test /= 255"
   ]
  },
  {
   "cell_type": "code",
   "execution_count": null,
   "metadata": {},
   "outputs": [],
   "source": [
    "nb_classes = 10\n",
    "\n",
    "Y_train = utils.to_categorical(y_train, nb_classes)\n",
    "Y_test = utils.to_categorical(y_test, nb_classes)\n",
    "\n",
    "print(f\"Y_train: {Y_train.shape}, Y_test: {Y_test.shape}\")"
   ]
  },
  {
   "cell_type": "code",
   "execution_count": null,
   "metadata": {},
   "outputs": [],
   "source": [
    "def plot_images(x, X, y):\n",
    "    # Define number of rows & columns\n",
    "    num_row = 2\n",
    "    num_col = 8\n",
    "    num = num_row * num_col\n",
    "    \n",
    "    # Plot before\n",
    "    print('BEFORE:\\n')\n",
    "    fig1, axes1 = plt.subplots(num_row, num_col, figsize=(1.5 * num_col, 2 * num_row))\n",
    "    for i in range(num):\n",
    "        ax = axes1[i // num_col, i % num_col]\n",
    "        ax.imshow(x[i])\n",
    "        ax.set_title('Label: {}'.format(y[i]))\n",
    "        ax.axis('off')\n",
    "    plt.show()\n",
    "    \n",
    "    # Plot after\n",
    "    print('AFTER:\\n')\n",
    "    fig2, axes2 = plt.subplots(num_row, num_col, figsize=(1.5 * num_col, 2 * num_row))\n",
    "    for X_aug, Y_aug in datagen.flow(X, y, batch_size=num, shuffle=False):\n",
    "        for i in range(0, num):\n",
    "            ax = axes2[i // num_col, i % num_col]\n",
    "            ax.imshow(X_aug[i])\n",
    "            ax.set_title('Label: {}'.format(int(Y_aug[i])))\n",
    "            ax.axis('off')\n",
    "        break\n",
    "    plt.show()"
   ]
  },
  {
   "cell_type": "code",
   "execution_count": null,
   "metadata": {},
   "outputs": [],
   "source": [
    "datagen = ImageDataGenerator(rotation_range=40)\n",
    "datagen.fit(X_train)\n",
    "\n",
    "plot_images(x_train, X_train, y_train)"
   ]
  },
  {
   "cell_type": "code",
   "execution_count": null,
   "metadata": {},
   "outputs": [],
   "source": [
    "datagen = ImageDataGenerator(shear_range=20)\n",
    "datagen.fit(X_train)\n",
    "\n",
    "plot_images(x_train, X_train, y_train)"
   ]
  },
  {
   "cell_type": "code",
   "execution_count": null,
   "metadata": {},
   "outputs": [],
   "source": [
    "new_data = ImageDataGenerator(rotation_range=40, shear_range=20)\n",
    "datagen.fit(X_test)\n",
    "\n",
    "X_test_augmented, Y_test_augmented = next(datagen.flow(X_test, Y_test, batch_size=X_test.shape[0], shuffle=False))"
   ]
  },
  {
   "cell_type": "code",
   "execution_count": null,
   "metadata": {},
   "outputs": [],
   "source": [
    "model = Sequential()\n",
    "\n",
    "model.add(Conv2D(filters=32, kernel_size=(3, 3), input_shape=(32, 32, 3)))\n",
    "model.add(Activation('relu') )\n",
    "\n",
    "model.add(Conv2D(filters=32, kernel_size=(3, 3)))\n",
    "model.add(Activation('relu') )\n",
    "\n",
    "model.add(Conv2D(filters=32, kernel_size=(3, 3)))\n",
    "model.add(Activation('relu'))\n",
    "\n",
    "model.add(MaxPooling2D(pool_size=(2, 2)))\n",
    "\n",
    "model.add(Conv2D(filters=64, kernel_size=(3, 3)))\n",
    "model.add(Activation('relu'))\n",
    "\n",
    "model.add(Conv2D(filters=64, kernel_size=(3, 3)))\n",
    "model.add(Activation('relu'))\n",
    "\n",
    "model.add(MaxPooling2D(pool_size=(2, 2)))\n",
    "\n",
    "model.add(Conv2D(filters=128, kernel_size=(3, 3)))\n",
    "model.add(Activation('relu'))\n",
    "\n",
    "model.add(Flatten())\n",
    "\n",
    "model.add(Dense(500))\n",
    "model.add(Activation('relu'))\n",
    "\n",
    "model.add(Dense(300))\n",
    "model.add(Activation('relu'))\n",
    "\n",
    "model.add(Dense(10))\n",
    "model.add(Activation('softmax'))\n",
    "\n",
    "model.compile(loss='categorical_crossentropy', optimizer='adam', metrics=['accuracy'])"
   ]
  },
  {
   "cell_type": "code",
   "execution_count": null,
   "metadata": {},
   "outputs": [],
   "source": [
    "model.summary()"
   ]
  },
  {
   "cell_type": "code",
   "execution_count": null,
   "metadata": {},
   "outputs": [],
   "source": [
    "def plot_overfitting(max_epochs):\n",
    "    model = Sequential()\n",
    "\n",
    "    model.add(Conv2D(filters=32, kernel_size=(3, 3), input_shape=(32, 32, 3)))\n",
    "    model.add(Activation('relu') )\n",
    "\n",
    "    model.add(Conv2D(filters=32, kernel_size=(3, 3)))\n",
    "    model.add(Activation('relu') )\n",
    "\n",
    "    model.add(Conv2D(filters=32, kernel_size=(3, 3)))\n",
    "    model.add(Activation('relu'))\n",
    "\n",
    "    model.add(MaxPooling2D(pool_size=(2, 2)))\n",
    "\n",
    "    model.add(Conv2D(filters=64, kernel_size=(3, 3)))\n",
    "    model.add(Activation('relu'))\n",
    "\n",
    "    model.add(Conv2D(filters=64, kernel_size=(3, 3)))\n",
    "    model.add(Activation('relu'))\n",
    "\n",
    "    model.add(MaxPooling2D(pool_size=(2, 2)))\n",
    "\n",
    "    model.add(Conv2D(filters=128, kernel_size=(3, 3)))\n",
    "    model.add(Activation('relu'))\n",
    "\n",
    "    model.add(Flatten())\n",
    "\n",
    "    model.add(Dense(500))\n",
    "    model.add(Activation('relu'))\n",
    "\n",
    "    model.add(Dense(300))\n",
    "    model.add(Activation('relu'))\n",
    "\n",
    "    model.add(Dense(10))\n",
    "    model.add(Activation('softmax'))\n",
    "\n",
    "    model.compile(loss='categorical_crossentropy', optimizer='adam', metrics=['accuracy'])\n",
    "    # train_acc = []\n",
    "    # test_acc = []\n",
    "    # for epoch in range(1, max_epochs + 1):\n",
    "    model.fit(X_train, Y_train, batch_size=128, epochs=max_epochs, validation_data=(X_test, Y_test), verbose=0)\n",
    "    _, accuracy1 = model.evaluate(X_train, Y_train, verbose=0)\n",
    "    _, accuracy2 = model.evaluate(X_test, Y_test, verbose=0)\n",
    "    # train_acc.append(accuracy1)\n",
    "    # test_acc.append(accuracy2)\n",
    "    return [accuracy1, accuracy2]\n",
    "    \n",
    "    # plt.plot(range(1, max_epochs + 1), train_acc, label='Training Accuracy')\n",
    "    # plt.plot(range(1, max_epochs + 1), test_acc, label='Testing Accuracy')\n",
    "    # plt.show()\n",
    "\n",
    "train_acc = []\n",
    "test_acc = []\n",
    "max_epochs = 10\n",
    "\n",
    "for x in range(1, max_epochs + 1):\n",
    "    train_acc.append(plot_overfitting(x)[0])\n",
    "    test_acc.append(plot_overfitting(x)[1])\n",
    "\n",
    "plt.plot(range(1, max_epochs + 1), train_acc, label='Training Accuracy')\n",
    "plt.plot(range(1, max_epochs + 1), test_acc, label='Testing Accuracy')\n",
    "plt.show()"
   ]
  },
  {
   "attachments": {
    "image.png": {
     "image/png": "[encoded data removed]"
    }
   },
   "cell_type": "markdown",
   "metadata": {},
   "source": [
    "![image.png](attachment:image.png)"
   ]
  },
  {
   "cell_type": "code",
   "execution_count": null,
   "metadata": {},
   "outputs": [],
   "source": [
    "# model.fit(X_train, Y_train, batch_size = 128, epochs=4, verbose=1, validation_split = 0.2, validation_steps=12000//128)"
   ]
  },
  {
   "cell_type": "code",
   "execution_count": null,
   "metadata": {},
   "outputs": [],
   "source": [
    "loss, accuracy = model.evaluate(X_test, Y_test)\n",
    "print(f\"Test loss: {loss:.4f}\")\n",
    "print(f\"Test accuracy: {accuracy:.4f}\")"
   ]
  },
  {
   "cell_type": "code",
   "execution_count": null,
   "metadata": {},
   "outputs": [],
   "source": [
    "datagen.fit(X_test)\n",
    "X_test_augmented, Y_test_augmented = next(datagen.flow(X_test, Y_test, batch_size=10_000))"
   ]
  },
  {
   "cell_type": "code",
   "execution_count": null,
   "metadata": {},
   "outputs": [],
   "source": [
    "loss, accuracy = model.evaluate(X_test_augmented, Y_test_augmented)\n",
    "print(f\"Test loss: {loss:.4f}\")\n",
    "print(f\"Test accuracy: {accuracy:.4f}\")"
   ]
  }
 ],
 "metadata": {
  "kernelspec": {
   "display_name": "MachineLearning_20240206",
   "language": "python",
   "name": "python3"
  },
  "language_info": {
   "codemirror_mode": {
    "name": "ipython",
    "version": 3
   },
   "file_extension": ".py",
   "mimetype": "text/x-python",
   "name": "python",
   "nbconvert_exporter": "python",
   "pygments_lexer": "ipython3",
   "version": "3.10.13"
  }
 },
 "nbformat": 4,
 "nbformat_minor": 2
}
